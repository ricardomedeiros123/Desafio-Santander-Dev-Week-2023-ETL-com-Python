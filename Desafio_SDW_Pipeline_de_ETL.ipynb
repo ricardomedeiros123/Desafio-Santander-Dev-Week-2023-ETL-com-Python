{
  "nbformat": 4,
  "nbformat_minor": 0,
  "metadata": {
    "colab": {
      "provenance": [],
      "authorship_tag": "ABX9TyMSq/4lAR8MCPtamEE2p0NM"
    },
    "kernelspec": {
      "name": "python3",
      "display_name": "Python 3"
    },
    "language_info": {
      "name": "python"
    }
  },
  "cells": [
    {
      "cell_type": "markdown",
      "source": [],
      "metadata": {
        "id": "DRegUT3e9sCj"
      }
    },
    {
      "cell_type": "markdown",
      "source": [
        "# Desafio - Santander Dev Week 2023 - ETL com Pyton"
      ],
      "metadata": {
        "id": "IhtNKR0S9tqT"
      }
    },
    {
      "cell_type": "markdown",
      "source": [
        "# Instalações Iniciais"
      ],
      "metadata": {
        "id": "nDz9BxwL93rU"
      }
    },
    {
      "cell_type": "code",
      "source": [
        "!pip install yfinance --upgrade --no-cache-dir\n",
        "!pip install pandas --upgrade --no-cache-dir\n",
        "!pip install --upgrade xlrd"
      ],
      "metadata": {
        "id": "4cFAJ-Pz4Vrk"
      },
      "execution_count": null,
      "outputs": []
    },
    {
      "cell_type": "markdown",
      "source": [
        "# Extract"
      ],
      "metadata": {
        "id": "wVBHWJZX9-Vj"
      }
    },
    {
      "cell_type": "code",
      "execution_count": null,
      "metadata": {
        "id": "W_ejPtAI2QSb"
      },
      "outputs": [],
      "source": [
        "import pandas as pd\n",
        "import yfinance as yf\n",
        "\n",
        "# Criar lista de ativos, ou baixar no link abaixo:\n",
        "# baixar em https://www.b3.com.br/pt_br/market-data-e-indices/indices/indices-amplos/indice-brasil-100-ibrx-100-composicao-da-carteira.htm\n",
        "# abrir arquivo, tirar primeira linha e as duas ultimas, salvar com excel (xls) com nome ativos\n",
        "\n",
        "symbol_list_ibrx = list(pd.read_excel('ativos.xls')['Código'].values) #copia todos os códigos dos ativos para a variável\n",
        "symbol_list_ibrx"
      ]
    },
    {
      "cell_type": "markdown",
      "source": [
        "# Transform"
      ],
      "metadata": {
        "id": "XAhYrQ7-RUgH"
      }
    },
    {
      "cell_type": "code",
      "source": [
        "df_resultado = pd.DataFrame()\n",
        "for ativo in symbol_list_ibrx: #para cada ativo da variável com a lista de ativos fazer:\n",
        "    df_info_ativo =pd.DataFrame()\n",
        "    chamada_api = yf.Ticker(ativo+'.SA') #baixa as informações do ativo selecionado\n",
        "    closes = chamada_api.history(period='36mo')['Close'].values #busca o preço de fechamento e grava na variável closes\n",
        "    dividendos = chamada_api.history(period='36mo')['Dividends'].values #busca os dividendos e grava na variável dividendos\n",
        "    datas = list(chamada_api.history(period='36mo').index) #busca as datas e grava na variável datas\n",
        "\n",
        "\n",
        "    df_info_ativo['Closes'] = closes #grava a informação no dataframe\n",
        "    df_info_ativo['FechamentoDiaAnterior'] = df_info_ativo['Closes'].shift()  #pega o fechamento do dia anterior (que está na linha anterior)\n",
        "    df_info_ativo['Dividendos'] = dividendos\n",
        "    df_info_ativo['Datas'] = datas\n",
        "    df_info_ativo['DivPorcent'] = (df_info_ativo['Dividendos'] / df_info_ativo['Closes'])*100\n",
        "    df_info_ativo = df_info_ativo.set_index('Datas',drop = True) #coloca a coluna datas como index e limpa os indexs que não tem informação\n",
        "\n",
        "\n",
        "    soma_dividendos = 0 #criação da variável que vai registrar os dividendos\n",
        "\n",
        "    for data,dados in df_info_ativo.iterrows():\n",
        "        if data.year == 2020 or data.year == 2021: #filtra por anos determinados\n",
        "            soma_dividendos += dados['DivPorcent'] #soma a coluna dividendos dos anos selecionados\n",
        "\n",
        "    dividend_yield = (soma_dividendos/2)  #faz a média dos dividendos e divide pelo último preço de fechamento do ativo / depois divide por 100 para aparecer como porcentagem\n",
        "\n",
        "    df_resultado[ativo] = [dividend_yield]\n",
        "\n",
        "#MOSTRARÁ A PORCENTAGEM PAGA EM RELAÇÃO AO SEU PRÓPRIO PREÇO.\n",
        "df_resultado_final = df_resultado.transpose().sort_values(by = 0,ascending=False)[:20] #mostra os 20 melhores / ascending=false (lista das maiores para as menores)\n"
      ],
      "metadata": {
        "id": "H2ejeTchq-iH"
      },
      "execution_count": 25,
      "outputs": []
    },
    {
      "cell_type": "code",
      "source": [
        "df_resultado_final"
      ],
      "metadata": {
        "id": "X2bLKR3xMLIY"
      },
      "execution_count": null,
      "outputs": []
    },
    {
      "cell_type": "markdown",
      "source": [
        "# Load - Exportar para XLS"
      ],
      "metadata": {
        "id": "qxg_b80uP56z"
      }
    },
    {
      "cell_type": "code",
      "source": [
        "nome_do_arquivo_excel = 'melhores_pagadores_de_dividendos.xlsx'\n",
        "\n",
        "\n",
        "# Exporta o DataFrame para o arquivo Excel\n",
        "df_resultado_final.to_excel(nome_do_arquivo_excel, index=True)\n",
        "\n",
        "print(f'DataFrame exportado para {nome_do_arquivo_excel} com sucesso.')"
      ],
      "metadata": {
        "colab": {
          "base_uri": "https://localhost:8080/"
        },
        "id": "N1Ih6CI3QC8P",
        "outputId": "c925ccf1-dc05-4883-b39f-88a3fe989186"
      },
      "execution_count": 29,
      "outputs": [
        {
          "output_type": "stream",
          "name": "stdout",
          "text": [
            "DataFrame exportado para melhores_pagadores_de_dividendos.xlsx com sucesso.\n"
          ]
        }
      ]
    }
  ]
}